{
 "cells": [
  {
   "cell_type": "code",
   "id": "initial_id",
   "metadata": {
    "collapsed": true,
    "ExecuteTime": {
     "end_time": "2025-03-21T02:45:34.312671Z",
     "start_time": "2025-03-21T02:45:34.300164Z"
    }
   },
   "source": [
    "import pandas as pd\n",
    "from sklearn.preprocessing import StandardScaler\n",
    "\n",
    "def standardize_excel(input_file, output_file):\n",
    "    # 读取Excel文件\n",
    "    df = pd.read_excel(input_file)\n",
    "\n",
    "    # 分离需要标准化的列（G列到最后一列）和不需要标准化的列（A-F列）\n",
    "    non_standardized_columns = df.iloc[:, :6]  # A-F列\n",
    "    columns_to_standardize = df.iloc[:, 6:]   # G列到最后一列\n",
    "\n",
    "    # 初始化标准化器\n",
    "    scaler = StandardScaler()\n",
    "\n",
    "    # 对需要标准化的列进行标准化\n",
    "    standardized_columns = scaler.fit_transform(columns_to_standardize)\n",
    "\n",
    "    # 将标准化后的数据转换回DataFrame\n",
    "    standardized_df = pd.DataFrame(standardized_columns, columns=columns_to_standardize.columns)\n",
    "\n",
    "    # 合并非标准化列和标准化列\n",
    "    result_df = pd.concat([non_standardized_columns, standardized_df], axis=1)\n",
    "\n",
    "    # 将结果输出到新的Excel文件\n",
    "    result_df.to_excel(output_file, index=False)"
   ],
   "outputs": [],
   "execution_count": 4
  },
  {
   "metadata": {
    "ExecuteTime": {
     "end_time": "2025-03-21T02:45:27.418080Z",
     "start_time": "2025-03-21T02:45:27.062999Z"
    }
   },
   "cell_type": "code",
   "source": [
    "# 使用示例\n",
    "input_file = '宿州.xlsx'  # 输入Excel文件路径\n",
    "output_file = '宿州标准化.xlsx'  # 输出Excel文件路径\n",
    "standardize_excel(input_file, output_file)"
   ],
   "id": "b144823d3153f98",
   "outputs": [],
   "execution_count": 2
  },
  {
   "metadata": {
    "ExecuteTime": {
     "end_time": "2025-03-21T02:45:27.604576Z",
     "start_time": "2025-03-21T02:45:27.419082Z"
    }
   },
   "cell_type": "code",
   "source": [
    "# 使用示例\n",
    "input_file = '安庆12.xlsx'  # 输入Excel文件路径\n",
    "output_file = '安庆12标准化.xlsx'  # 输出Excel文件路径\n",
    "standardize_excel(input_file, output_file)"
   ],
   "id": "8c06c5a0fa19d1d9",
   "outputs": [],
   "execution_count": 3
  },
  {
   "metadata": {
    "ExecuteTime": {
     "end_time": "2025-03-21T02:45:36.182729Z",
     "start_time": "2025-03-21T02:45:36.124036Z"
    }
   },
   "cell_type": "code",
   "source": [
    "# 使用示例\n",
    "input_file = '马鞍山.xlsx'  # 输入Excel文件路径\n",
    "output_file = '马鞍山标准化.xlsx'  # 输出Excel文件路径\n",
    "standardize_excel(input_file, output_file)"
   ],
   "id": "14d59db750703824",
   "outputs": [],
   "execution_count": 5
  },
  {
   "metadata": {},
   "cell_type": "code",
   "outputs": [],
   "execution_count": null,
   "source": "",
   "id": "194eca0224b7cb47"
  }
 ],
 "metadata": {
  "kernelspec": {
   "display_name": "Python 3",
   "language": "python",
   "name": "python3"
  },
  "language_info": {
   "codemirror_mode": {
    "name": "ipython",
    "version": 2
   },
   "file_extension": ".py",
   "mimetype": "text/x-python",
   "name": "python",
   "nbconvert_exporter": "python",
   "pygments_lexer": "ipython2",
   "version": "2.7.6"
  }
 },
 "nbformat": 4,
 "nbformat_minor": 5
}
