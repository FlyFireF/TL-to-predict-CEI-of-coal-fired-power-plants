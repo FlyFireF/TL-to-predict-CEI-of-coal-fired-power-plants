{
 "cells": [
  {
   "cell_type": "markdown",
   "id": "538b2d6a-004a-48b8-9e62-3b11a1192ecf",
   "metadata": {},
   "source": [
    "# 23年碳排放数据重采样提取202308-202312"
   ]
  },
  {
   "cell_type": "code",
   "id": "8a09b57b-4f0a-48b7-8982-468626c56762",
   "metadata": {
    "ExecuteTime": {
     "end_time": "2025-03-02T13:54:31.785851Z",
     "start_time": "2025-03-02T13:54:31.435329Z"
    }
   },
   "source": [
    "import os\n",
    "import pandas as pd\n",
    "pd.set_option('display.float_format', '{:.3f}'.format)\n",
    "import warnings\n",
    "warnings.filterwarnings(\"ignore\")\n",
    "\n",
    "#输入碳排放数据月文件路径，合并为整年并重采样计算日度数据（碳排放强度均值）\n",
    "def get_emission_rate_23(directory):#emssion_data_directory\n",
    "    # List to hold each DataFrame\n",
    "    dataframes = []\n",
    "    # Loop through all files in the directory\n",
    "    for file in os.listdir(directory): \n",
    "        print(file)#打印该路径下读取到的文件名\n",
    "        # Construct full file path\n",
    "        file_path = os.path.join(directory, file)\n",
    "        # Read the Excel file into a DataFrame\n",
    "        df = pd.read_excel(file_path,skiprows=1).iloc[::,2:]\n",
    "        # Append the DataFrame to the list\n",
    "        dataframes.append(df)\n",
    "        #print(df)\n",
    "    # Concatenate all DataFrames into df for one year \n",
    "    year_df = pd.concat(dataframes, ignore_index=True)\n",
    "    \n",
    "    # convert date from object type to datetime type \n",
    "    year_df['时间'] = pd.to_datetime(year_df['时间'])\n",
    "    # set date to index\n",
    "    year_df.set_index('时间', inplace=True)\n",
    "    # sort data by date\n",
    "    year_df = year_df.sort_index()\n",
    "\n",
    "    #选择全年非停机数据\n",
    "    year_df_without0 = year_df[year_df[\"负荷\"] != 0]\n",
    "    #计算5mins 间隔的 碳排放强度\n",
    "    year_df_without0[\"碳排放强度\"] = ( (year_df_without0[\"二氧化碳\"]*44/22.4*10000)/1000*year_df_without0[\"烟气流量\"] ) / (1000 * year_df_without0[\"负荷\"])\n",
    "\n",
    "    # resample to daily data\n",
    "    daily_data = year_df_without0.resample('D').agg({\n",
    "        '负荷': 'mean',  # 计算每日平均负荷\n",
    "        '二氧化碳': 'mean',  # 计算每日二氧化碳体积浓度平均值\n",
    "        '氧含量(%)': 'mean',  # 计算每日平均氧含量\n",
    "        '烟气流量': 'mean',   # 计算每日平均烟气流量\n",
    "        '碳排放量': 'sum',    # 计算每日碳排放量总和\n",
    "        '碳排放强度': 'mean'   # 由5mins碳排放强度计算每日碳排放量均值\n",
    "    })\n",
    "    daily_emssion = daily_data[(daily_data[\"碳排放强度\"] != 0) & (daily_data[\"碳排放强度\"].notnull())]\n",
    "    return daily_emssion\n"
   ],
   "outputs": [],
   "execution_count": 1
  },
  {
   "cell_type": "code",
   "id": "b155b536-95eb-43a6-a6e2-f831aeab6387",
   "metadata": {
    "ExecuteTime": {
     "end_time": "2025-03-02T13:54:36.845315Z",
     "start_time": "2025-03-02T13:54:32.593022Z"
    }
   },
   "source": [
    "    \n",
    "directory_1_23 = '../data/皖能马鞍山一号机组碳排放监测数据/1号机组碳排放监测数据202308-202412/1号机组碳排放监测数据202308-202312'\n",
    "daily_df_1_23 = get_emission_rate_23(directory_1_23)\n",
    "daily_df_1_23 = daily_df_1_23.reset_index()\n",
    "daily_df_1_23\n",
    "#202308-202312应为153天数据 实际128天 是由于107C检修606小时约为25天导致 （2023/11/16 0:49-2023/12/11 7:28）"
   ],
   "outputs": [
    {
     "name": "stdout",
     "output_type": "stream",
     "text": [
      "皖能马鞍山一号机组23年10月.xlsx\n",
      "皖能马鞍山一号机组23年11月.xlsx\n",
      "皖能马鞍山一号机组23年12月.xlsx\n",
      "皖能马鞍山一号机组23年8月.xlsx\n",
      "皖能马鞍山一号机组23年9月.xlsx\n"
     ]
    },
    {
     "data": {
      "text/plain": [
       "            时间      负荷   二氧化碳  氧含量(%)        烟气流量      碳排放量   碳排放强度\n",
       "0   2023-08-01 389.677 11.324   5.859 1528143.490  8268.340 874.946\n",
       "1   2023-08-02 408.276 11.329   5.875 1574934.471  8555.600 860.640\n",
       "2   2023-08-03 405.237 11.385   5.803 1587287.548  8688.890 880.362\n",
       "3   2023-08-04 553.981 12.082   4.694 1967935.960 11505.780 857.798\n",
       "4   2023-08-05 616.803 12.420   4.280 2154637.770 12827.240 853.046\n",
       "..         ...     ...    ...     ...         ...       ...     ...\n",
       "123 2023-12-27 419.167 10.907   6.301 1436318.729  7532.080 740.159\n",
       "124 2023-12-28 497.384 11.345   5.729 1589647.482  8714.950 726.002\n",
       "125 2023-12-29 572.455 11.693   5.186 1762529.724  9816.460 715.157\n",
       "126 2023-12-30 487.565 11.382   5.800 1588483.945  8675.050 734.314\n",
       "127 2023-12-31 475.509 11.203   6.208 1565001.452  8392.360 736.339\n",
       "\n",
       "[128 rows x 7 columns]"
      ],
      "text/html": [
       "<div>\n",
       "<style scoped>\n",
       "    .dataframe tbody tr th:only-of-type {\n",
       "        vertical-align: middle;\n",
       "    }\n",
       "\n",
       "    .dataframe tbody tr th {\n",
       "        vertical-align: top;\n",
       "    }\n",
       "\n",
       "    .dataframe thead th {\n",
       "        text-align: right;\n",
       "    }\n",
       "</style>\n",
       "<table border=\"1\" class=\"dataframe\">\n",
       "  <thead>\n",
       "    <tr style=\"text-align: right;\">\n",
       "      <th></th>\n",
       "      <th>时间</th>\n",
       "      <th>负荷</th>\n",
       "      <th>二氧化碳</th>\n",
       "      <th>氧含量(%)</th>\n",
       "      <th>烟气流量</th>\n",
       "      <th>碳排放量</th>\n",
       "      <th>碳排放强度</th>\n",
       "    </tr>\n",
       "  </thead>\n",
       "  <tbody>\n",
       "    <tr>\n",
       "      <th>0</th>\n",
       "      <td>2023-08-01</td>\n",
       "      <td>389.677</td>\n",
       "      <td>11.324</td>\n",
       "      <td>5.859</td>\n",
       "      <td>1528143.490</td>\n",
       "      <td>8268.340</td>\n",
       "      <td>874.946</td>\n",
       "    </tr>\n",
       "    <tr>\n",
       "      <th>1</th>\n",
       "      <td>2023-08-02</td>\n",
       "      <td>408.276</td>\n",
       "      <td>11.329</td>\n",
       "      <td>5.875</td>\n",
       "      <td>1574934.471</td>\n",
       "      <td>8555.600</td>\n",
       "      <td>860.640</td>\n",
       "    </tr>\n",
       "    <tr>\n",
       "      <th>2</th>\n",
       "      <td>2023-08-03</td>\n",
       "      <td>405.237</td>\n",
       "      <td>11.385</td>\n",
       "      <td>5.803</td>\n",
       "      <td>1587287.548</td>\n",
       "      <td>8688.890</td>\n",
       "      <td>880.362</td>\n",
       "    </tr>\n",
       "    <tr>\n",
       "      <th>3</th>\n",
       "      <td>2023-08-04</td>\n",
       "      <td>553.981</td>\n",
       "      <td>12.082</td>\n",
       "      <td>4.694</td>\n",
       "      <td>1967935.960</td>\n",
       "      <td>11505.780</td>\n",
       "      <td>857.798</td>\n",
       "    </tr>\n",
       "    <tr>\n",
       "      <th>4</th>\n",
       "      <td>2023-08-05</td>\n",
       "      <td>616.803</td>\n",
       "      <td>12.420</td>\n",
       "      <td>4.280</td>\n",
       "      <td>2154637.770</td>\n",
       "      <td>12827.240</td>\n",
       "      <td>853.046</td>\n",
       "    </tr>\n",
       "    <tr>\n",
       "      <th>...</th>\n",
       "      <td>...</td>\n",
       "      <td>...</td>\n",
       "      <td>...</td>\n",
       "      <td>...</td>\n",
       "      <td>...</td>\n",
       "      <td>...</td>\n",
       "      <td>...</td>\n",
       "    </tr>\n",
       "    <tr>\n",
       "      <th>123</th>\n",
       "      <td>2023-12-27</td>\n",
       "      <td>419.167</td>\n",
       "      <td>10.907</td>\n",
       "      <td>6.301</td>\n",
       "      <td>1436318.729</td>\n",
       "      <td>7532.080</td>\n",
       "      <td>740.159</td>\n",
       "    </tr>\n",
       "    <tr>\n",
       "      <th>124</th>\n",
       "      <td>2023-12-28</td>\n",
       "      <td>497.384</td>\n",
       "      <td>11.345</td>\n",
       "      <td>5.729</td>\n",
       "      <td>1589647.482</td>\n",
       "      <td>8714.950</td>\n",
       "      <td>726.002</td>\n",
       "    </tr>\n",
       "    <tr>\n",
       "      <th>125</th>\n",
       "      <td>2023-12-29</td>\n",
       "      <td>572.455</td>\n",
       "      <td>11.693</td>\n",
       "      <td>5.186</td>\n",
       "      <td>1762529.724</td>\n",
       "      <td>9816.460</td>\n",
       "      <td>715.157</td>\n",
       "    </tr>\n",
       "    <tr>\n",
       "      <th>126</th>\n",
       "      <td>2023-12-30</td>\n",
       "      <td>487.565</td>\n",
       "      <td>11.382</td>\n",
       "      <td>5.800</td>\n",
       "      <td>1588483.945</td>\n",
       "      <td>8675.050</td>\n",
       "      <td>734.314</td>\n",
       "    </tr>\n",
       "    <tr>\n",
       "      <th>127</th>\n",
       "      <td>2023-12-31</td>\n",
       "      <td>475.509</td>\n",
       "      <td>11.203</td>\n",
       "      <td>6.208</td>\n",
       "      <td>1565001.452</td>\n",
       "      <td>8392.360</td>\n",
       "      <td>736.339</td>\n",
       "    </tr>\n",
       "  </tbody>\n",
       "</table>\n",
       "<p>128 rows × 7 columns</p>\n",
       "</div>"
      ]
     },
     "execution_count": 2,
     "metadata": {},
     "output_type": "execute_result"
    }
   ],
   "execution_count": 2
  },
  {
   "cell_type": "code",
   "id": "22e402b0-6286-4646-9c06-22d6b9a0a114",
   "metadata": {
    "ExecuteTime": {
     "end_time": "2025-03-02T13:54:44.640784Z",
     "start_time": "2025-03-02T13:54:44.622245Z"
    }
   },
   "source": [
    "df23 = daily_df_1_23[[\"时间\",\"负荷\",\"碳排放强度\"]]\n",
    "df23\n"
   ],
   "outputs": [
    {
     "data": {
      "text/plain": [
       "            时间      负荷   碳排放强度\n",
       "0   2023-08-01 389.677 874.946\n",
       "1   2023-08-02 408.276 860.640\n",
       "2   2023-08-03 405.237 880.362\n",
       "3   2023-08-04 553.981 857.798\n",
       "4   2023-08-05 616.803 853.046\n",
       "..         ...     ...     ...\n",
       "123 2023-12-27 419.167 740.159\n",
       "124 2023-12-28 497.384 726.002\n",
       "125 2023-12-29 572.455 715.157\n",
       "126 2023-12-30 487.565 734.314\n",
       "127 2023-12-31 475.509 736.339\n",
       "\n",
       "[128 rows x 3 columns]"
      ],
      "text/html": [
       "<div>\n",
       "<style scoped>\n",
       "    .dataframe tbody tr th:only-of-type {\n",
       "        vertical-align: middle;\n",
       "    }\n",
       "\n",
       "    .dataframe tbody tr th {\n",
       "        vertical-align: top;\n",
       "    }\n",
       "\n",
       "    .dataframe thead th {\n",
       "        text-align: right;\n",
       "    }\n",
       "</style>\n",
       "<table border=\"1\" class=\"dataframe\">\n",
       "  <thead>\n",
       "    <tr style=\"text-align: right;\">\n",
       "      <th></th>\n",
       "      <th>时间</th>\n",
       "      <th>负荷</th>\n",
       "      <th>碳排放强度</th>\n",
       "    </tr>\n",
       "  </thead>\n",
       "  <tbody>\n",
       "    <tr>\n",
       "      <th>0</th>\n",
       "      <td>2023-08-01</td>\n",
       "      <td>389.677</td>\n",
       "      <td>874.946</td>\n",
       "    </tr>\n",
       "    <tr>\n",
       "      <th>1</th>\n",
       "      <td>2023-08-02</td>\n",
       "      <td>408.276</td>\n",
       "      <td>860.640</td>\n",
       "    </tr>\n",
       "    <tr>\n",
       "      <th>2</th>\n",
       "      <td>2023-08-03</td>\n",
       "      <td>405.237</td>\n",
       "      <td>880.362</td>\n",
       "    </tr>\n",
       "    <tr>\n",
       "      <th>3</th>\n",
       "      <td>2023-08-04</td>\n",
       "      <td>553.981</td>\n",
       "      <td>857.798</td>\n",
       "    </tr>\n",
       "    <tr>\n",
       "      <th>4</th>\n",
       "      <td>2023-08-05</td>\n",
       "      <td>616.803</td>\n",
       "      <td>853.046</td>\n",
       "    </tr>\n",
       "    <tr>\n",
       "      <th>...</th>\n",
       "      <td>...</td>\n",
       "      <td>...</td>\n",
       "      <td>...</td>\n",
       "    </tr>\n",
       "    <tr>\n",
       "      <th>123</th>\n",
       "      <td>2023-12-27</td>\n",
       "      <td>419.167</td>\n",
       "      <td>740.159</td>\n",
       "    </tr>\n",
       "    <tr>\n",
       "      <th>124</th>\n",
       "      <td>2023-12-28</td>\n",
       "      <td>497.384</td>\n",
       "      <td>726.002</td>\n",
       "    </tr>\n",
       "    <tr>\n",
       "      <th>125</th>\n",
       "      <td>2023-12-29</td>\n",
       "      <td>572.455</td>\n",
       "      <td>715.157</td>\n",
       "    </tr>\n",
       "    <tr>\n",
       "      <th>126</th>\n",
       "      <td>2023-12-30</td>\n",
       "      <td>487.565</td>\n",
       "      <td>734.314</td>\n",
       "    </tr>\n",
       "    <tr>\n",
       "      <th>127</th>\n",
       "      <td>2023-12-31</td>\n",
       "      <td>475.509</td>\n",
       "      <td>736.339</td>\n",
       "    </tr>\n",
       "  </tbody>\n",
       "</table>\n",
       "<p>128 rows × 3 columns</p>\n",
       "</div>"
      ]
     },
     "execution_count": 3,
     "metadata": {},
     "output_type": "execute_result"
    }
   ],
   "execution_count": 3
  },
  {
   "cell_type": "markdown",
   "id": "38e8ec2d-b75b-4dd2-ad87-56727c147718",
   "metadata": {},
   "source": [
    "# 24年碳排放数据重采样提取202401-202412"
   ]
  },
  {
   "cell_type": "code",
   "id": "3b325a82-f76d-4e4e-b093-c9684c960924",
   "metadata": {
    "ExecuteTime": {
     "end_time": "2025-03-07T02:59:23.445163Z",
     "start_time": "2025-03-07T02:59:11.887535Z"
    }
   },
   "source": [
    "import pandas as pd\n",
    "import os\n",
    "\n",
    "pd.set_option('display.float_format', '{:.3f}'.format)\n",
    "dataframes = []\n",
    "# Specify the directory containing the Excel files\n",
    "directory = '../data/皖能马鞍山一号机组碳排放监测数据/1号机组碳排放监测数据202308-202412/1号机组碳排放监测数据202401-202412'\n",
    "# Loop through all files in the directory\n",
    "for file in os.listdir(directory):\n",
    "    print(file)#打印该路径下读取到的文件名\n",
    "    file_path = os.path.join(directory, file)\n",
    "    df = pd.read_excel(file_path,skiprows=1).iloc[::,2:]\n",
    "\n",
    "    #转换数据格式 obj——>float 以运算\n",
    "    df['排放量绩效平均值(g/kwh)'] = pd.to_numeric(df['排放量绩效平均值(g/kwh)'], errors='coerce')\n",
    "\n",
    "    #选择非停机数据\n",
    "    df_without0 = df#[df[\"负荷率平均值(%)\"] != 0]\n",
    "    #计算5mins 间隔的 碳排放强度\n",
    "    df_without0[\"碳排放强度\"] = ( (df_without0[\"C02浓度平均值(%)\"]*44/22.4*10000)/1000*df_without0[\"烟气流量平均值(dNm3/h)\"] ) / (1000 * df_without0[\"有功功率平均值(MW)\"])\n",
    "    #convert to datetime datatype\n",
    "    df_without0['时间'] = pd.to_datetime(df_without0['时间'])\n",
    "    # set date to index\n",
    "    df_without0.set_index('时间', inplace=True)\n",
    "    # resample to daily data\n",
    "    daily = df_without0.resample('d').agg({\n",
    "        '有功功率平均值(MW)': 'mean',\n",
    "        '负荷率平均值(%)': 'mean',\n",
    "        'C02浓度平均值(%)': 'mean',\n",
    "        '氧含量平均值(%)': 'mean',\n",
    "        '烟气流量平均值(dNm3/h)': 'mean',\n",
    "        '碳排放量五分钟累计值(t)': 'sum' ,\n",
    "        '排放量绩效平均值(g/kwh)': 'mean',\n",
    "        '碳排放强度': 'mean'\n",
    "    })\n",
    "    dataframes.append(daily)\n",
    "year_df = pd.concat(dataframes)\n",
    "year_df = year_df.sort_index()\n",
    "year_df = year_df.reset_index()\n",
    "# year_df = year_df[(year_df[\"碳排放强度\"] != 0) & (year_df[\"碳排放强度\"].notnull()) ]\n"
   ],
   "outputs": [
    {
     "name": "stdout",
     "output_type": "stream",
     "text": [
      "皖能马鞍山一号机24年10月.xlsx\n"
     ]
    },
    {
     "name": "stderr",
     "output_type": "stream",
     "text": [
      "D:\\Program Files\\Python310\\lib\\site-packages\\openpyxl\\styles\\stylesheet.py:237: UserWarning: Workbook contains no default style, apply openpyxl's default\n",
      "  warn(\"Workbook contains no default style, apply openpyxl's default\")\n"
     ]
    },
    {
     "name": "stdout",
     "output_type": "stream",
     "text": [
      "皖能马鞍山一号机24年11月.xlsx\n"
     ]
    },
    {
     "name": "stderr",
     "output_type": "stream",
     "text": [
      "D:\\Program Files\\Python310\\lib\\site-packages\\openpyxl\\styles\\stylesheet.py:237: UserWarning: Workbook contains no default style, apply openpyxl's default\n",
      "  warn(\"Workbook contains no default style, apply openpyxl's default\")\n"
     ]
    },
    {
     "name": "stdout",
     "output_type": "stream",
     "text": [
      "皖能马鞍山一号机24年12月.xlsx\n"
     ]
    },
    {
     "name": "stderr",
     "output_type": "stream",
     "text": [
      "D:\\Program Files\\Python310\\lib\\site-packages\\openpyxl\\styles\\stylesheet.py:237: UserWarning: Workbook contains no default style, apply openpyxl's default\n",
      "  warn(\"Workbook contains no default style, apply openpyxl's default\")\n"
     ]
    },
    {
     "name": "stdout",
     "output_type": "stream",
     "text": [
      "皖能马鞍山一号机24年1月.xlsx\n"
     ]
    },
    {
     "name": "stderr",
     "output_type": "stream",
     "text": [
      "D:\\Program Files\\Python310\\lib\\site-packages\\openpyxl\\styles\\stylesheet.py:237: UserWarning: Workbook contains no default style, apply openpyxl's default\n",
      "  warn(\"Workbook contains no default style, apply openpyxl's default\")\n"
     ]
    },
    {
     "name": "stdout",
     "output_type": "stream",
     "text": [
      "皖能马鞍山一号机24年2月.xlsx\n"
     ]
    },
    {
     "name": "stderr",
     "output_type": "stream",
     "text": [
      "D:\\Program Files\\Python310\\lib\\site-packages\\openpyxl\\styles\\stylesheet.py:237: UserWarning: Workbook contains no default style, apply openpyxl's default\n",
      "  warn(\"Workbook contains no default style, apply openpyxl's default\")\n"
     ]
    },
    {
     "name": "stdout",
     "output_type": "stream",
     "text": [
      "皖能马鞍山一号机24年3月.xlsx\n"
     ]
    },
    {
     "name": "stderr",
     "output_type": "stream",
     "text": [
      "D:\\Program Files\\Python310\\lib\\site-packages\\openpyxl\\styles\\stylesheet.py:237: UserWarning: Workbook contains no default style, apply openpyxl's default\n",
      "  warn(\"Workbook contains no default style, apply openpyxl's default\")\n"
     ]
    },
    {
     "name": "stdout",
     "output_type": "stream",
     "text": [
      "皖能马鞍山一号机24年4月.xlsx\n"
     ]
    },
    {
     "name": "stderr",
     "output_type": "stream",
     "text": [
      "D:\\Program Files\\Python310\\lib\\site-packages\\openpyxl\\styles\\stylesheet.py:237: UserWarning: Workbook contains no default style, apply openpyxl's default\n",
      "  warn(\"Workbook contains no default style, apply openpyxl's default\")\n"
     ]
    },
    {
     "name": "stdout",
     "output_type": "stream",
     "text": [
      "皖能马鞍山一号机24年5月.xlsx\n"
     ]
    },
    {
     "name": "stderr",
     "output_type": "stream",
     "text": [
      "D:\\Program Files\\Python310\\lib\\site-packages\\openpyxl\\styles\\stylesheet.py:237: UserWarning: Workbook contains no default style, apply openpyxl's default\n",
      "  warn(\"Workbook contains no default style, apply openpyxl's default\")\n"
     ]
    },
    {
     "name": "stdout",
     "output_type": "stream",
     "text": [
      "皖能马鞍山一号机24年6月.xlsx\n"
     ]
    },
    {
     "name": "stderr",
     "output_type": "stream",
     "text": [
      "D:\\Program Files\\Python310\\lib\\site-packages\\openpyxl\\styles\\stylesheet.py:237: UserWarning: Workbook contains no default style, apply openpyxl's default\n",
      "  warn(\"Workbook contains no default style, apply openpyxl's default\")\n"
     ]
    },
    {
     "name": "stdout",
     "output_type": "stream",
     "text": [
      "皖能马鞍山一号机24年7月.xlsx\n"
     ]
    },
    {
     "name": "stderr",
     "output_type": "stream",
     "text": [
      "D:\\Program Files\\Python310\\lib\\site-packages\\openpyxl\\styles\\stylesheet.py:237: UserWarning: Workbook contains no default style, apply openpyxl's default\n",
      "  warn(\"Workbook contains no default style, apply openpyxl's default\")\n"
     ]
    },
    {
     "name": "stdout",
     "output_type": "stream",
     "text": [
      "皖能马鞍山一号机24年8月.xlsx\n"
     ]
    },
    {
     "name": "stderr",
     "output_type": "stream",
     "text": [
      "D:\\Program Files\\Python310\\lib\\site-packages\\openpyxl\\styles\\stylesheet.py:237: UserWarning: Workbook contains no default style, apply openpyxl's default\n",
      "  warn(\"Workbook contains no default style, apply openpyxl's default\")\n"
     ]
    },
    {
     "name": "stdout",
     "output_type": "stream",
     "text": [
      "皖能马鞍山一号机24年9月.xlsx\n"
     ]
    },
    {
     "name": "stderr",
     "output_type": "stream",
     "text": [
      "D:\\Program Files\\Python310\\lib\\site-packages\\openpyxl\\styles\\stylesheet.py:237: UserWarning: Workbook contains no default style, apply openpyxl's default\n",
      "  warn(\"Workbook contains no default style, apply openpyxl's default\")\n"
     ]
    }
   ],
   "execution_count": 4
  },
  {
   "cell_type": "code",
   "id": "bc5040eb-91c7-44b8-a696-eb8cdf6e6fe3",
   "metadata": {
    "ExecuteTime": {
     "end_time": "2025-03-07T02:59:28.215602Z",
     "start_time": "2025-03-07T02:59:28.195051Z"
    }
   },
   "source": [
    "year_df"
   ],
   "outputs": [
    {
     "data": {
      "text/plain": [
       "            时间  有功功率平均值(MW)  负荷率平均值(%)  C02浓度平均值(%)  氧含量平均值(%)  \\\n",
       "0   2024-01-01      392.596     59.484        9.920      7.406   \n",
       "1   2024-01-02      578.792     87.696        0.678      0.255   \n",
       "2   2024-01-03      614.009     93.032        0.000      0.000   \n",
       "3   2024-01-04      435.709     66.016        5.130      5.561   \n",
       "4   2024-01-05      432.340     65.506        5.019      4.342   \n",
       "..         ...          ...        ...          ...        ...   \n",
       "361 2024-12-27      513.772     77.844       12.063      5.085   \n",
       "362 2024-12-28      377.355     57.175       12.164      6.276   \n",
       "363 2024-12-29      360.441     54.612       11.987      6.726   \n",
       "364 2024-12-30      351.485     53.255       11.945      6.650   \n",
       "365 2024-12-31      494.140     74.870       12.060      5.597   \n",
       "\n",
       "     烟气流量平均值(dNm3/h)  碳排放量五分钟累计值(t)  排放量绩效平均值(g/kwh)   碳排放强度  \n",
       "0        1388990.264       6856.150          732.814 699.284  \n",
       "1        1835545.760      10192.040          690.372     inf  \n",
       "2        1869621.403      10556.740          723.187   0.000  \n",
       "3        1489550.704       7518.980          757.025 440.045  \n",
       "4        1461719.123       6313.160          594.165 323.819  \n",
       "..               ...            ...              ...     ...  \n",
       "361      1720474.551       9277.240          748.278 800.699  \n",
       "362      1418891.640       6521.090          721.144 910.332  \n",
       "363      1384880.834       4819.200          557.622 914.207  \n",
       "364      1366240.674       3077.580          362.188 914.339  \n",
       "365      1666382.945       8545.610          707.094 829.795  \n",
       "\n",
       "[366 rows x 9 columns]"
      ],
      "text/html": [
       "<div>\n",
       "<style scoped>\n",
       "    .dataframe tbody tr th:only-of-type {\n",
       "        vertical-align: middle;\n",
       "    }\n",
       "\n",
       "    .dataframe tbody tr th {\n",
       "        vertical-align: top;\n",
       "    }\n",
       "\n",
       "    .dataframe thead th {\n",
       "        text-align: right;\n",
       "    }\n",
       "</style>\n",
       "<table border=\"1\" class=\"dataframe\">\n",
       "  <thead>\n",
       "    <tr style=\"text-align: right;\">\n",
       "      <th></th>\n",
       "      <th>时间</th>\n",
       "      <th>有功功率平均值(MW)</th>\n",
       "      <th>负荷率平均值(%)</th>\n",
       "      <th>C02浓度平均值(%)</th>\n",
       "      <th>氧含量平均值(%)</th>\n",
       "      <th>烟气流量平均值(dNm3/h)</th>\n",
       "      <th>碳排放量五分钟累计值(t)</th>\n",
       "      <th>排放量绩效平均值(g/kwh)</th>\n",
       "      <th>碳排放强度</th>\n",
       "    </tr>\n",
       "  </thead>\n",
       "  <tbody>\n",
       "    <tr>\n",
       "      <th>0</th>\n",
       "      <td>2024-01-01</td>\n",
       "      <td>392.596</td>\n",
       "      <td>59.484</td>\n",
       "      <td>9.920</td>\n",
       "      <td>7.406</td>\n",
       "      <td>1388990.264</td>\n",
       "      <td>6856.150</td>\n",
       "      <td>732.814</td>\n",
       "      <td>699.284</td>\n",
       "    </tr>\n",
       "    <tr>\n",
       "      <th>1</th>\n",
       "      <td>2024-01-02</td>\n",
       "      <td>578.792</td>\n",
       "      <td>87.696</td>\n",
       "      <td>0.678</td>\n",
       "      <td>0.255</td>\n",
       "      <td>1835545.760</td>\n",
       "      <td>10192.040</td>\n",
       "      <td>690.372</td>\n",
       "      <td>inf</td>\n",
       "    </tr>\n",
       "    <tr>\n",
       "      <th>2</th>\n",
       "      <td>2024-01-03</td>\n",
       "      <td>614.009</td>\n",
       "      <td>93.032</td>\n",
       "      <td>0.000</td>\n",
       "      <td>0.000</td>\n",
       "      <td>1869621.403</td>\n",
       "      <td>10556.740</td>\n",
       "      <td>723.187</td>\n",
       "      <td>0.000</td>\n",
       "    </tr>\n",
       "    <tr>\n",
       "      <th>3</th>\n",
       "      <td>2024-01-04</td>\n",
       "      <td>435.709</td>\n",
       "      <td>66.016</td>\n",
       "      <td>5.130</td>\n",
       "      <td>5.561</td>\n",
       "      <td>1489550.704</td>\n",
       "      <td>7518.980</td>\n",
       "      <td>757.025</td>\n",
       "      <td>440.045</td>\n",
       "    </tr>\n",
       "    <tr>\n",
       "      <th>4</th>\n",
       "      <td>2024-01-05</td>\n",
       "      <td>432.340</td>\n",
       "      <td>65.506</td>\n",
       "      <td>5.019</td>\n",
       "      <td>4.342</td>\n",
       "      <td>1461719.123</td>\n",
       "      <td>6313.160</td>\n",
       "      <td>594.165</td>\n",
       "      <td>323.819</td>\n",
       "    </tr>\n",
       "    <tr>\n",
       "      <th>...</th>\n",
       "      <td>...</td>\n",
       "      <td>...</td>\n",
       "      <td>...</td>\n",
       "      <td>...</td>\n",
       "      <td>...</td>\n",
       "      <td>...</td>\n",
       "      <td>...</td>\n",
       "      <td>...</td>\n",
       "      <td>...</td>\n",
       "    </tr>\n",
       "    <tr>\n",
       "      <th>361</th>\n",
       "      <td>2024-12-27</td>\n",
       "      <td>513.772</td>\n",
       "      <td>77.844</td>\n",
       "      <td>12.063</td>\n",
       "      <td>5.085</td>\n",
       "      <td>1720474.551</td>\n",
       "      <td>9277.240</td>\n",
       "      <td>748.278</td>\n",
       "      <td>800.699</td>\n",
       "    </tr>\n",
       "    <tr>\n",
       "      <th>362</th>\n",
       "      <td>2024-12-28</td>\n",
       "      <td>377.355</td>\n",
       "      <td>57.175</td>\n",
       "      <td>12.164</td>\n",
       "      <td>6.276</td>\n",
       "      <td>1418891.640</td>\n",
       "      <td>6521.090</td>\n",
       "      <td>721.144</td>\n",
       "      <td>910.332</td>\n",
       "    </tr>\n",
       "    <tr>\n",
       "      <th>363</th>\n",
       "      <td>2024-12-29</td>\n",
       "      <td>360.441</td>\n",
       "      <td>54.612</td>\n",
       "      <td>11.987</td>\n",
       "      <td>6.726</td>\n",
       "      <td>1384880.834</td>\n",
       "      <td>4819.200</td>\n",
       "      <td>557.622</td>\n",
       "      <td>914.207</td>\n",
       "    </tr>\n",
       "    <tr>\n",
       "      <th>364</th>\n",
       "      <td>2024-12-30</td>\n",
       "      <td>351.485</td>\n",
       "      <td>53.255</td>\n",
       "      <td>11.945</td>\n",
       "      <td>6.650</td>\n",
       "      <td>1366240.674</td>\n",
       "      <td>3077.580</td>\n",
       "      <td>362.188</td>\n",
       "      <td>914.339</td>\n",
       "    </tr>\n",
       "    <tr>\n",
       "      <th>365</th>\n",
       "      <td>2024-12-31</td>\n",
       "      <td>494.140</td>\n",
       "      <td>74.870</td>\n",
       "      <td>12.060</td>\n",
       "      <td>5.597</td>\n",
       "      <td>1666382.945</td>\n",
       "      <td>8545.610</td>\n",
       "      <td>707.094</td>\n",
       "      <td>829.795</td>\n",
       "    </tr>\n",
       "  </tbody>\n",
       "</table>\n",
       "<p>366 rows × 9 columns</p>\n",
       "</div>"
      ]
     },
     "execution_count": 5,
     "metadata": {},
     "output_type": "execute_result"
    }
   ],
   "execution_count": 5
  },
  {
   "cell_type": "code",
   "id": "0de12306-1a7e-489d-bba3-580e1d805ead",
   "metadata": {
    "ExecuteTime": {
     "end_time": "2025-03-07T02:59:32.765062Z",
     "start_time": "2025-03-07T02:59:32.743540Z"
    }
   },
   "source": [
    "df24 = year_df[[\"时间\",\"负荷率平均值(%)\",\"碳排放强度\"]]\n",
    "df24.to_excel(\"../已提取数据/马鞍山1号碳排放监测数据2024.xlsx\",index = False)"
   ],
   "outputs": [],
   "execution_count": 6
  },
  {
   "cell_type": "markdown",
   "id": "1789ee05-07bb-4492-bad6-f5feb04e4b38",
   "metadata": {},
   "source": [
    "# 2324年碳排放数据合并 并补充缺失日期202308-202412"
   ]
  },
  {
   "cell_type": "code",
   "id": "4c0df661-0ef8-4a19-ba6d-d4a1afe1361c",
   "metadata": {
    "ExecuteTime": {
     "end_time": "2025-03-02T13:55:36.048604Z",
     "start_time": "2025-03-02T13:55:36.030066Z"
    }
   },
   "source": [
    "emission = pd.concat([df23,df24])\n",
    "emission"
   ],
   "outputs": [
    {
     "data": {
      "text/plain": [
       "            时间      负荷   碳排放强度\n",
       "0   2023-08-01 389.677 874.946\n",
       "1   2023-08-02 408.276 860.640\n",
       "2   2023-08-03 405.237 880.362\n",
       "3   2023-08-04 553.981 857.798\n",
       "4   2023-08-05 616.803 853.046\n",
       "..         ...     ...     ...\n",
       "288 2024-12-27 513.772 800.699\n",
       "289 2024-12-28 377.355 910.332\n",
       "290 2024-12-29 360.441 914.207\n",
       "291 2024-12-30 351.485 914.339\n",
       "292 2024-12-31 494.140 829.795\n",
       "\n",
       "[421 rows x 3 columns]"
      ],
      "text/html": [
       "<div>\n",
       "<style scoped>\n",
       "    .dataframe tbody tr th:only-of-type {\n",
       "        vertical-align: middle;\n",
       "    }\n",
       "\n",
       "    .dataframe tbody tr th {\n",
       "        vertical-align: top;\n",
       "    }\n",
       "\n",
       "    .dataframe thead th {\n",
       "        text-align: right;\n",
       "    }\n",
       "</style>\n",
       "<table border=\"1\" class=\"dataframe\">\n",
       "  <thead>\n",
       "    <tr style=\"text-align: right;\">\n",
       "      <th></th>\n",
       "      <th>时间</th>\n",
       "      <th>负荷</th>\n",
       "      <th>碳排放强度</th>\n",
       "    </tr>\n",
       "  </thead>\n",
       "  <tbody>\n",
       "    <tr>\n",
       "      <th>0</th>\n",
       "      <td>2023-08-01</td>\n",
       "      <td>389.677</td>\n",
       "      <td>874.946</td>\n",
       "    </tr>\n",
       "    <tr>\n",
       "      <th>1</th>\n",
       "      <td>2023-08-02</td>\n",
       "      <td>408.276</td>\n",
       "      <td>860.640</td>\n",
       "    </tr>\n",
       "    <tr>\n",
       "      <th>2</th>\n",
       "      <td>2023-08-03</td>\n",
       "      <td>405.237</td>\n",
       "      <td>880.362</td>\n",
       "    </tr>\n",
       "    <tr>\n",
       "      <th>3</th>\n",
       "      <td>2023-08-04</td>\n",
       "      <td>553.981</td>\n",
       "      <td>857.798</td>\n",
       "    </tr>\n",
       "    <tr>\n",
       "      <th>4</th>\n",
       "      <td>2023-08-05</td>\n",
       "      <td>616.803</td>\n",
       "      <td>853.046</td>\n",
       "    </tr>\n",
       "    <tr>\n",
       "      <th>...</th>\n",
       "      <td>...</td>\n",
       "      <td>...</td>\n",
       "      <td>...</td>\n",
       "    </tr>\n",
       "    <tr>\n",
       "      <th>288</th>\n",
       "      <td>2024-12-27</td>\n",
       "      <td>513.772</td>\n",
       "      <td>800.699</td>\n",
       "    </tr>\n",
       "    <tr>\n",
       "      <th>289</th>\n",
       "      <td>2024-12-28</td>\n",
       "      <td>377.355</td>\n",
       "      <td>910.332</td>\n",
       "    </tr>\n",
       "    <tr>\n",
       "      <th>290</th>\n",
       "      <td>2024-12-29</td>\n",
       "      <td>360.441</td>\n",
       "      <td>914.207</td>\n",
       "    </tr>\n",
       "    <tr>\n",
       "      <th>291</th>\n",
       "      <td>2024-12-30</td>\n",
       "      <td>351.485</td>\n",
       "      <td>914.339</td>\n",
       "    </tr>\n",
       "    <tr>\n",
       "      <th>292</th>\n",
       "      <td>2024-12-31</td>\n",
       "      <td>494.140</td>\n",
       "      <td>829.795</td>\n",
       "    </tr>\n",
       "  </tbody>\n",
       "</table>\n",
       "<p>421 rows × 3 columns</p>\n",
       "</div>"
      ]
     },
     "execution_count": 7,
     "metadata": {},
     "output_type": "execute_result"
    }
   ],
   "execution_count": 7
  },
  {
   "cell_type": "code",
   "id": "3269dbb0-29ad-47e3-ab79-4475872d729e",
   "metadata": {
    "ExecuteTime": {
     "end_time": "2025-03-02T13:55:38.905257Z",
     "start_time": "2025-03-02T13:55:38.891244Z"
    }
   },
   "source": [
    "emission.info()"
   ],
   "outputs": [
    {
     "name": "stdout",
     "output_type": "stream",
     "text": [
      "<class 'pandas.core.frame.DataFrame'>\n",
      "Index: 421 entries, 0 to 292\n",
      "Data columns (total 3 columns):\n",
      " #   Column  Non-Null Count  Dtype         \n",
      "---  ------  --------------  -----         \n",
      " 0   时间      421 non-null    datetime64[ns]\n",
      " 1   负荷      407 non-null    float64       \n",
      " 2   碳排放强度   407 non-null    float64       \n",
      "dtypes: datetime64[ns](1), float64(2)\n",
      "memory usage: 13.2 KB\n"
     ]
    }
   ],
   "execution_count": 8
  },
  {
   "cell_type": "code",
   "id": "45d55346-deca-4471-8d91-0d703e11caf0",
   "metadata": {
    "ExecuteTime": {
     "end_time": "2025-03-02T13:55:42.805023Z",
     "start_time": "2025-03-02T13:55:42.785440Z"
    }
   },
   "source": [
    "# 生成完整的日期范围\n",
    "start_date = emission['时间'].min()  # 获取最小日期\n",
    "end_date = emission['时间'].max()    # 获取最大日期\n",
    "date_range = pd.date_range(start=start_date, end=end_date, freq='D')\n",
    "\n",
    "# 创建一个包含所有日期的 DataFrame\n",
    "df_full = pd.DataFrame({'时间': date_range})\n",
    "\n",
    "# 合并原始 DataFrame 和完整日期 DataFrame\n",
    "df_all = pd.merge(df_full, emission, on='时间', how='left')\n",
    "\n",
    "# 输出结果查看\n",
    "df_all\n"
   ],
   "outputs": [
    {
     "data": {
      "text/plain": [
       "            时间      负荷   碳排放强度\n",
       "0   2023-08-01 389.677 874.946\n",
       "1   2023-08-02 408.276 860.640\n",
       "2   2023-08-03 405.237 880.362\n",
       "3   2023-08-04 553.981 857.798\n",
       "4   2023-08-05 616.803 853.046\n",
       "..         ...     ...     ...\n",
       "514 2024-12-27 513.772 800.699\n",
       "515 2024-12-28 377.355 910.332\n",
       "516 2024-12-29 360.441 914.207\n",
       "517 2024-12-30 351.485 914.339\n",
       "518 2024-12-31 494.140 829.795\n",
       "\n",
       "[519 rows x 3 columns]"
      ],
      "text/html": [
       "<div>\n",
       "<style scoped>\n",
       "    .dataframe tbody tr th:only-of-type {\n",
       "        vertical-align: middle;\n",
       "    }\n",
       "\n",
       "    .dataframe tbody tr th {\n",
       "        vertical-align: top;\n",
       "    }\n",
       "\n",
       "    .dataframe thead th {\n",
       "        text-align: right;\n",
       "    }\n",
       "</style>\n",
       "<table border=\"1\" class=\"dataframe\">\n",
       "  <thead>\n",
       "    <tr style=\"text-align: right;\">\n",
       "      <th></th>\n",
       "      <th>时间</th>\n",
       "      <th>负荷</th>\n",
       "      <th>碳排放强度</th>\n",
       "    </tr>\n",
       "  </thead>\n",
       "  <tbody>\n",
       "    <tr>\n",
       "      <th>0</th>\n",
       "      <td>2023-08-01</td>\n",
       "      <td>389.677</td>\n",
       "      <td>874.946</td>\n",
       "    </tr>\n",
       "    <tr>\n",
       "      <th>1</th>\n",
       "      <td>2023-08-02</td>\n",
       "      <td>408.276</td>\n",
       "      <td>860.640</td>\n",
       "    </tr>\n",
       "    <tr>\n",
       "      <th>2</th>\n",
       "      <td>2023-08-03</td>\n",
       "      <td>405.237</td>\n",
       "      <td>880.362</td>\n",
       "    </tr>\n",
       "    <tr>\n",
       "      <th>3</th>\n",
       "      <td>2023-08-04</td>\n",
       "      <td>553.981</td>\n",
       "      <td>857.798</td>\n",
       "    </tr>\n",
       "    <tr>\n",
       "      <th>4</th>\n",
       "      <td>2023-08-05</td>\n",
       "      <td>616.803</td>\n",
       "      <td>853.046</td>\n",
       "    </tr>\n",
       "    <tr>\n",
       "      <th>...</th>\n",
       "      <td>...</td>\n",
       "      <td>...</td>\n",
       "      <td>...</td>\n",
       "    </tr>\n",
       "    <tr>\n",
       "      <th>514</th>\n",
       "      <td>2024-12-27</td>\n",
       "      <td>513.772</td>\n",
       "      <td>800.699</td>\n",
       "    </tr>\n",
       "    <tr>\n",
       "      <th>515</th>\n",
       "      <td>2024-12-28</td>\n",
       "      <td>377.355</td>\n",
       "      <td>910.332</td>\n",
       "    </tr>\n",
       "    <tr>\n",
       "      <th>516</th>\n",
       "      <td>2024-12-29</td>\n",
       "      <td>360.441</td>\n",
       "      <td>914.207</td>\n",
       "    </tr>\n",
       "    <tr>\n",
       "      <th>517</th>\n",
       "      <td>2024-12-30</td>\n",
       "      <td>351.485</td>\n",
       "      <td>914.339</td>\n",
       "    </tr>\n",
       "    <tr>\n",
       "      <th>518</th>\n",
       "      <td>2024-12-31</td>\n",
       "      <td>494.140</td>\n",
       "      <td>829.795</td>\n",
       "    </tr>\n",
       "  </tbody>\n",
       "</table>\n",
       "<p>519 rows × 3 columns</p>\n",
       "</div>"
      ]
     },
     "execution_count": 9,
     "metadata": {},
     "output_type": "execute_result"
    }
   ],
   "execution_count": 9
  },
  {
   "cell_type": "code",
   "id": "077cc294-2359-4fdd-a09c-d95e2c9451b1",
   "metadata": {
    "ExecuteTime": {
     "end_time": "2025-03-02T13:55:46.758331Z",
     "start_time": "2025-03-02T13:55:46.711482Z"
    }
   },
   "source": [
    "df_all.to_excel(\"../已提取数据/马鞍山1号碳排放监测数据202308-202412.xlsx\",index = False)"
   ],
   "outputs": [],
   "execution_count": 10
  },
  {
   "cell_type": "code",
   "execution_count": null,
   "id": "1a3cb0bb-c85f-4e27-8f20-55e2ad32c020",
   "metadata": {},
   "outputs": [],
   "source": []
  }
 ],
 "metadata": {
  "kernelspec": {
   "display_name": "Python 3 (ipykernel)",
   "language": "python",
   "name": "python3"
  },
  "language_info": {
   "codemirror_mode": {
    "name": "ipython",
    "version": 3
   },
   "file_extension": ".py",
   "mimetype": "text/x-python",
   "name": "python",
   "nbconvert_exporter": "python",
   "pygments_lexer": "ipython3",
   "version": "3.12.4"
  }
 },
 "nbformat": 4,
 "nbformat_minor": 5
}
